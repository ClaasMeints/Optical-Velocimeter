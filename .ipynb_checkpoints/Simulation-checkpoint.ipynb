{
 "cells": [
  {
   "cell_type": "markdown",
   "metadata": {},
   "source": []
  },
  {
   "cell_type": "markdown",
   "metadata": {},
   "source": [
    "# Optical Velocimeter"
   ]
  },
  {
   "cell_type": "markdown",
   "metadata": {},
   "source": [
    "### Define the Model"
   ]
  },
  {
   "cell_type": "markdown",
   "metadata": {},
   "source": [
    "##### Initialisation of SymPy"
   ]
  },
  {
   "cell_type": "code",
   "execution_count": 5,
   "metadata": {},
   "outputs": [],
   "source": [
    "import sympy as sym\n",
    "\n",
    "# Init Printing\n",
    "sym.init_printing()\n",
    "\n",
    "def func(name: str, f: sym.core, simplify: bool = False):\n",
    "    display(sym.Eq(sym.symbols(name), sym.Eq(f, sym.simplify(f), evaluate=False) if simplify else f, evaluate=False))\n",
    "    return f"
   ]
  },
  {
   "cell_type": "markdown",
   "metadata": {},
   "source": [
    "##### Define the Parameters"
   ]
  },
  {
   "cell_type": "code",
   "execution_count": 6,
   "metadata": {},
   "outputs": [],
   "source": [
    "f1, f2, vAuto, alpha = sym.symbols('f_1 f_2 v_{auto} \\\\alpha')\n",
    "s, c = sym.symbols('s c', constant=True)\n"
   ]
  },
  {
   "cell_type": "markdown",
   "metadata": {},
   "source": [
    "##### Define the Equations"
   ]
  },
  {
   "cell_type": "code",
   "execution_count": 10,
   "metadata": {},
   "outputs": [
    {
     "data": {
      "image/png": "[encoded data removed]",
      "text/latex": [
       "$\\displaystyle v_{rel} = v_{auto} \\cos{\\left(\\alpha \\right)}$"
      ],
      "text/plain": [
       "v_{rel} = v_{auto}⋅cos(\\alpha)"
      ]
     },
     "metadata": {},
     "output_type": "display_data"
    },
    {
     "data": {
      "image/png": "[encoded data removed]",
      "text/latex": [
       "$\\displaystyle \\hat{f_1} = f_{1} \\left(1 + \\frac{v_{auto} \\cos{\\left(\\alpha \\right)}}{c}\\right)$"
      ],
      "text/plain": [
       "               ⎛    v_{auto}⋅cos(\\alpha)⎞\n",
       "\\hat{f_1} = f₁⋅⎜1 + ────────────────────⎟\n",
       "               ⎝             c          ⎠"
      ]
     },
     "metadata": {},
     "output_type": "display_data"
    },
    {
     "data": {
      "image/png": "[encoded data removed]",
      "text/latex": [
       "$\\displaystyle \\hat{f_2} = f_{2} \\left(1 + \\frac{v_{auto} \\cos{\\left(\\alpha \\right)}}{c}\\right)$"
      ],
      "text/plain": [
       "               ⎛    v_{auto}⋅cos(\\alpha)⎞\n",
       "\\hat{f_2} = f₂⋅⎜1 + ────────────────────⎟\n",
       "               ⎝             c          ⎠"
      ]
     },
     "metadata": {},
     "output_type": "display_data"
    },
    {
     "data": {
      "image/png": "[encoded data removed]",
      "text/latex": [
       "$\\displaystyle f_{beat} = f_{1} \\left(1 + \\frac{v_{auto} \\cos{\\left(\\alpha \\right)}}{c}\\right) - f_{2} \\left(1 + \\frac{v_{auto} \\cos{\\left(\\alpha \\right)}}{c}\\right) = \\frac{\\left(c + v_{auto} \\cos{\\left(\\alpha \\right)}\\right) \\left(f_{1} - f_{2}\\right)}{c}$"
      ],
      "text/plain": [
       "              ⎛    v_{auto}⋅cos(\\alpha)⎞      ⎛    v_{auto}⋅cos(\\alpha)⎞   (c \n",
       "f_{beat} = f₁⋅⎜1 + ────────────────────⎟ - f₂⋅⎜1 + ────────────────────⎟ = ───\n",
       "              ⎝             c          ⎠      ⎝             c          ⎠      \n",
       "\n",
       "+ v_{auto}⋅cos(\\alpha))⋅(f₁ - f₂)\n",
       "─────────────────────────────────\n",
       "              c                  "
      ]
     },
     "metadata": {},
     "output_type": "display_data"
    },
    {
     "data": {
      "image/png": "[encoded data removed]",
      "text/latex": [
       "$\\displaystyle \\lambda_{beat} = \\frac{c}{f_{1} \\left(1 + \\frac{v_{auto} \\cos{\\left(\\alpha \\right)}}{c}\\right) - f_{2} \\left(1 + \\frac{v_{auto} \\cos{\\left(\\alpha \\right)}}{c}\\right)} = \\frac{c^{2}}{\\left(c + v_{auto} \\cos{\\left(\\alpha \\right)}\\right) \\left(f_{1} - f_{2}\\right)}$"
      ],
      "text/plain": [
       "                                                                              \n",
       "                                               c                              \n",
       "\\lambda_{beat} = ─────────────────────────────────────────────────────────────\n",
       "                    ⎛    v_{auto}⋅cos(\\alpha)⎞      ⎛    v_{auto}⋅cos(\\alpha)⎞\n",
       "                 f₁⋅⎜1 + ────────────────────⎟ - f₂⋅⎜1 + ────────────────────⎟\n",
       "                    ⎝             c          ⎠      ⎝             c          ⎠\n",
       "\n",
       "                     2                 \n",
       "                    c                  \n",
       " = ────────────────────────────────────\n",
       "   (c + v_{auto}⋅cos(\\alpha))⋅(f₁ - f₂)\n",
       "                                       \n",
       "                                       "
      ]
     },
     "metadata": {},
     "output_type": "display_data"
    },
    {
     "data": {
      "image/png": "[encoded data removed]",
      "text/latex": [
       "$\\displaystyle \\Delta{}s = \\left(\\lambda_{beat} + s\\right) \\sqrt{- \\frac{s^{2}}{\\left(\\lambda_{beat} + s\\right)^{2}} + 1} = \\sqrt{\\frac{- s^{2} + \\left(\\lambda_{beat} + s\\right)^{2}}{\\left(\\lambda_{beat} + s\\right)^{2}}} \\left(\\lambda_{beat} + s\\right)$"
      ],
      "text/plain": [
       "                                       _____________________________         _\n",
       "                                      ╱              2                      ╱ \n",
       "                                     ╱              s                      ╱  \n",
       "\\Delta{}s = (\\lambda_{beat} + s)⋅   ╱   - ───────────────────── + 1  =    ╱   \n",
       "                                   ╱                          2          ╱    \n",
       "                                 ╲╱       (\\lambda_{beat} + s)         ╲╱     \n",
       "\n",
       "_____________________________                     \n",
       "   2                       2                      \n",
       "- s  + (\\lambda_{beat} + s)                       \n",
       "──────────────────────────── ⋅(\\lambda_{beat} + s)\n",
       "                       2                          \n",
       "   (\\lambda_{beat} + s)                           "
      ]
     },
     "metadata": {},
     "output_type": "display_data"
    }
   ],
   "source": [
    "# Relative Velocity\n",
    "vRel = func('v_{rel}', vAuto * sym.cos(alpha))\n",
    "\n",
    "# Doppler Shift\n",
    "f1Doppler = func('\\hat{f_1}', f1 * (1 + vRel / c))\n",
    "f2Doppler = func('\\hat{f_2}', f2 * (1 + vRel / c))\n",
    "\n",
    "# Beat Frequency and Wavelength\n",
    "fBeat = func('f_{beat}', f1Doppler - f2Doppler, simplify=True)\n",
    "lambdaBeat = func('\\lambda_{beat}', c / fBeat, simplify=True)\n",
    "\n",
    "# Delta S\n",
    "deltaS = func('\\Delta{}s', s * sym.tan(sym.acos(s / (s + sym.Symbol('\\lambda_{beat}')))), simplify=True)\n"
   ]
  },
  {
   "cell_type": "markdown",
   "metadata": {},
   "source": [
    "##### Create Sliders for the Parameters"
   ]
  },
  {
   "cell_type": "code",
   "execution_count": 3,
   "metadata": {},
   "outputs": [
    {
     "name": "stderr",
     "output_type": "stream",
     "text": [
      "Widget Javascript not detected.  It may not be installed or enabled properly. Reconnecting the current kernel may help.\n"
     ]
    },
    {
     "data": {
      "application/vnd.jupyter.widget-view+json": {
       "model_id": "22eb5bb801254cd9930cea961d95f0a0"
      }
     },
     "metadata": {},
     "output_type": "display_data"
    },
    {
     "data": {
      "image/png": "[encoded data removed]",
      "text/plain": [
       "<Figure size 432x288 with 1 Axes>"
      ]
     },
     "metadata": {
      "needs_background": "light"
     },
     "output_type": "display_data"
    }
   ],
   "source": [
    "from matplotlib import pyplot as plt\n",
    "from scipy import integrate\n",
    "\n",
    "from ipywidgets import interactive, fixed\n",
    "\n",
    "def plot(f1, f2, vAuto, alpha, s, c):\n",
    "    "
   ]
  },
  {
   "cell_type": "code",
   "execution_count": null,
   "metadata": {},
   "outputs": [],
   "source": []
  }
 ],
 "metadata": {
  "kernelspec": {
   "display_name": "Python 3 (ipykernel)",
   "language": "python",
   "name": "python3"
  },
  "language_info": {
   "codemirror_mode": {
    "name": "ipython",
    "version": 3
   },
   "file_extension": ".py",
   "mimetype": "text/x-python",
   "name": "python",
   "nbconvert_exporter": "python",
   "pygments_lexer": "ipython3",
   "version": "3.10.6"
  },
  "vscode": {
   "interpreter": {
    "hash": "e7370f93d1d0cde622a1f8e1c04877d8463912d04d973331ad4851f04de6915a"
   }
  }
 },
 "nbformat": 4,
 "nbformat_minor": 2
}
