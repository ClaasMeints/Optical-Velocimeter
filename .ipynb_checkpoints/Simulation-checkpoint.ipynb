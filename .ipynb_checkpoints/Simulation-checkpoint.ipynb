{
 "cells": [
  {
   "cell_type": "markdown",
   "metadata": {},
   "source": []
  },
  {
   "cell_type": "code",
   "execution_count": 1,
   "metadata": {},
   "outputs": [],
   "source": [
    "%matplotlib notebook"
   ]
  },
  {
   "cell_type": "markdown",
   "metadata": {},
   "source": [
    "# Optical Velocimeter"
   ]
  },
  {
   "cell_type": "markdown",
   "metadata": {},
   "source": [
    "### Define the Model"
   ]
  },
  {
   "cell_type": "markdown",
   "metadata": {},
   "source": [
    "##### Initialisation of SymPy"
   ]
  },
  {
   "cell_type": "code",
   "execution_count": 2,
   "metadata": {},
   "outputs": [],
   "source": [
    "import sympy as sym\n",
    "from IPython.display import display, Math \n",
    "\n",
    "# Init Printing\n",
    "sym.init_printing()\n",
    "\n",
    "def func(name: str, f: sym.core, simplify: bool = False):\n",
    "    display(sym.Eq(sym.symbols(name), sym.Eq(f, sym.simplify(f), evaluate=False) if simplify else f, evaluate=False))\n",
    "    return f"
   ]
  },
  {
   "cell_type": "markdown",
   "metadata": {},
   "source": [
    "##### Define the Parameters"
   ]
  },
  {
   "cell_type": "code",
   "execution_count": 3,
   "metadata": {},
   "outputs": [],
   "source": [
    "f1, f2, vAuto, alpha = sym.symbols('f_1 f_2 v_{auto} \\\\alpha')\n",
    "s, c = sym.symbols('s c', constant=True)\n"
   ]
  },
  {
   "cell_type": "markdown",
   "metadata": {},
   "source": [
    "##### Define the Equations"
   ]
  },
  {
   "cell_type": "code",
   "execution_count": 4,
   "metadata": {},
   "outputs": [
    {
     "data": {
      "image/png": "[encoded data removed]",
      "text/latex": [
       "$\\displaystyle v_{rel} = v_{auto} \\sin{\\left(\\alpha \\right)}$"
      ],
      "text/plain": [
       "v_{rel} = v_{auto}⋅sin(\\alpha)"
      ]
     },
     "metadata": {},
     "output_type": "display_data"
    },
    {
     "data": {
      "image/png": "[encoded data removed]",
      "text/latex": [
       "$\\displaystyle \\hat{f_1} = f_{1} \\left(1 + \\frac{v_{auto} \\sin{\\left(\\alpha \\right)}}{c}\\right)$"
      ],
      "text/plain": [
       "               ⎛    v_{auto}⋅sin(\\alpha)⎞\n",
       "\\hat{f_1} = f₁⋅⎜1 + ────────────────────⎟\n",
       "               ⎝             c          ⎠"
      ]
     },
     "metadata": {},
     "output_type": "display_data"
    },
    {
     "data": {
      "image/png": "[encoded data removed]",
      "text/latex": [
       "$\\displaystyle \\hat{f_2} = f_{2} \\left(1 - \\frac{v_{auto} \\sin{\\left(\\alpha \\right)}}{c}\\right)$"
      ],
      "text/plain": [
       "               ⎛    v_{auto}⋅sin(\\alpha)⎞\n",
       "\\hat{f_2} = f₂⋅⎜1 - ────────────────────⎟\n",
       "               ⎝             c          ⎠"
      ]
     },
     "metadata": {},
     "output_type": "display_data"
    },
    {
     "data": {
      "image/png": "[encoded data removed]",
      "text/latex": [
       "$\\displaystyle f_{beat} = f_{1} \\left(1 + \\frac{v_{auto} \\sin{\\left(\\alpha \\right)}}{c}\\right) - f_{2} \\left(1 - \\frac{v_{auto} \\sin{\\left(\\alpha \\right)}}{c}\\right) = \\frac{f_{1} \\left(c + v_{auto} \\sin{\\left(\\alpha \\right)}\\right) - f_{2} \\left(c - v_{auto} \\sin{\\left(\\alpha \\right)}\\right)}{c}$"
      ],
      "text/plain": [
       "              ⎛    v_{auto}⋅sin(\\alpha)⎞      ⎛    v_{auto}⋅sin(\\alpha)⎞   f₁⋅(c + v_{auto}⋅sin(\\alpha)) - f₂⋅(c - v_{auto}⋅sin(\\alpha))\n",
       "f_{beat} = f₁⋅⎜1 + ────────────────────⎟ - f₂⋅⎜1 - ────────────────────⎟ = ─────────────────────────────────────────────────────────────\n",
       "              ⎝             c          ⎠      ⎝             c          ⎠                                 c                              "
      ]
     },
     "metadata": {},
     "output_type": "display_data"
    },
    {
     "data": {
      "image/png": "[encoded data removed]",
      "text/latex": [
       "$\\displaystyle \\lambda_{beat} = \\frac{c}{f_{1} \\left(1 + \\frac{v_{auto} \\sin{\\left(\\alpha \\right)}}{c}\\right) - f_{2} \\left(1 - \\frac{v_{auto} \\sin{\\left(\\alpha \\right)}}{c}\\right)} = \\frac{c^{2}}{f_{1} \\left(c + v_{auto} \\sin{\\left(\\alpha \\right)}\\right) - f_{2} \\left(c - v_{auto} \\sin{\\left(\\alpha \\right)}\\right)}$"
      ],
      "text/plain": [
       "                                                                                                                2                             \n",
       "                                               c                                                               c                              \n",
       "\\lambda_{beat} = ───────────────────────────────────────────────────────────── = ─────────────────────────────────────────────────────────────\n",
       "                    ⎛    v_{auto}⋅sin(\\alpha)⎞      ⎛    v_{auto}⋅sin(\\alpha)⎞   f₁⋅(c + v_{auto}⋅sin(\\alpha)) - f₂⋅(c - v_{auto}⋅sin(\\alpha))\n",
       "                 f₁⋅⎜1 + ────────────────────⎟ - f₂⋅⎜1 - ────────────────────⎟                                                                \n",
       "                    ⎝             c          ⎠      ⎝             c          ⎠                                                                "
      ]
     },
     "metadata": {},
     "output_type": "display_data"
    },
    {
     "data": {
      "text/latex": [
       "$\\displaystyle \\Delta s = \\sqrt{\\left(s + \\lambda_{beat}\\right)^{2} - s^{2}}\\quad\\Rightarrow$"
      ],
      "text/plain": [
       "<IPython.core.display.Math object>"
      ]
     },
     "metadata": {},
     "output_type": "display_data"
    },
    {
     "data": {
      "image/png": "[encoded data removed]",
      "text/latex": [
       "$\\displaystyle \\Delta{}s = \\sqrt{- s^{2} + \\left(\\frac{c}{f_{1} \\left(1 + \\frac{v_{auto} \\sin{\\left(\\alpha \\right)}}{c}\\right) - f_{2} \\left(1 - \\frac{v_{auto} \\sin{\\left(\\alpha \\right)}}{c}\\right)} + s\\right)^{2}}$"
      ],
      "text/plain": [
       "                   _____________________________________________________________________________\n",
       "                  ╱                                                                           2 \n",
       "                 ╱     2   ⎛                              c                                  ⎞  \n",
       "\\Delta{}s =     ╱   - s  + ⎜───────────────────────────────────────────────────────────── + s⎟  \n",
       "               ╱           ⎜   ⎛    v_{auto}⋅sin(\\alpha)⎞      ⎛    v_{auto}⋅sin(\\alpha)⎞    ⎟  \n",
       "              ╱            ⎜f₁⋅⎜1 + ────────────────────⎟ - f₂⋅⎜1 - ────────────────────⎟    ⎟  \n",
       "            ╲╱             ⎝   ⎝             c          ⎠      ⎝             c          ⎠    ⎠  "
      ]
     },
     "metadata": {},
     "output_type": "display_data"
    }
   ],
   "source": [
    "# Relative Velocity\n",
    "vRel = func('v_{rel}', vAuto * sym.sin(alpha))\n",
    "\n",
    "# Doppler Shift\n",
    "f1Doppler = func('\\hat{f_1}', f1 * (1 + vRel / c))\n",
    "f2Doppler = func('\\hat{f_2}', f2 * (1 - vRel / c))\n",
    "\n",
    "# Beat Frequency and Wavelength\n",
    "fBeat = func('f_{beat}', f1Doppler - f2Doppler, simplify=True)\n",
    "lambdaBeat = func('\\lambda_{beat}', c / fBeat, simplify=True)\n",
    "\n",
    "# Delta S\n",
    "display(Math('\\Delta s = \\\\sqrt{\\\\left(s + \\\\lambda_{beat}\\\\right)^{2} - s^{2}}\\\\quad\\\\Rightarrow'))\n",
    "deltaS = func('\\Delta{}s', sym.sqrt((s + lambdaBeat)**2 - s**2))\n"
   ]
  },
  {
   "cell_type": "markdown",
   "metadata": {},
   "source": [
    "##### Create Sliders for the Parameters"
   ]
  },
  {
   "cell_type": "code",
   "execution_count": null,
   "metadata": {},
   "outputs": [],
   "source": []
  },
  {
   "cell_type": "code",
   "execution_count": 9,
   "metadata": {},
   "outputs": [
    {
     "name": "stderr",
     "output_type": "stream",
     "text": [
      "Widget Javascript not detected.  It may not be installed or enabled properly. Reconnecting the current kernel may help.\n"
     ]
    },
    {
     "data": {
      "application/vnd.jupyter.widget-view+json": {
       "model_id": "276a4049a1704256badebd94e8dda5a4"
      }
     },
     "metadata": {},
     "output_type": "display_data"
    }
   ],
   "source": [
    "from matplotlib import pyplot as plt\n",
    "from scipy.optimize import fsolve\n",
    "import numpy as np\n",
    "\n",
    "from ipywidgets import interactive, fixed\n",
    "\n",
    "def plot(_fBase, _fOffset, _alpha, _s):\n",
    "    _fBase = 10**_fBase\n",
    "    _fOffset = 10**_fOffset\n",
    "    _alpha = np.deg2rad(_alpha)\n",
    "    _c = 299792458\n",
    "    \n",
    "    _fBeat = lambda _vAuto : sym.lambdify((f1, f2, vAuto, alpha, c), fBeat, 'numpy')(_fBase, _fBase - _fOffset, _vAuto, _alpha, _c)\n",
    "    _lambdaBeat = lambda _vAuto : sym.lambdify((f1, f2, vAuto, alpha, c), lambdaBeat, 'numpy')(_fBase, _fBase - _fOffset, _vAuto, _alpha, _c)\n",
    "    _deltaS = lambda _vAuto : sym.lambdify((f1, f2, vAuto, alpha, c, s), deltaS, 'numpy')(_fBase, _fBase - _fOffset, _vAuto, _alpha, _c, _s)\n",
    "    \n",
    "    _maximumSpeed = 100\n",
    "    _minimumSpeed = fsolve(lambda _vAuto : _deltaS(_vAuto) * 1e3 - _s * np.tan(_alpha), 100)[0]\n",
    "    if _minimumSpeed > _maximumSpeed:\n",
    "        _minimumSpeed = 0.1\n",
    "    _vAutoArray = np.linspace(_minimumSpeed, _maximumSpeed, 1000)\n",
    "    \n",
    "    fig = plt.figure(figsize=(13, 3))\n",
    "    #ax = fig.add_subplot(1, 3, 1)\n",
    "    #ax.plot(_vAutoArray, _fBeat(_vAutoArray) / 1e9)\n",
    "    #ax.set_xlabel('v_{auto} [m/s]')\n",
    "    #ax.set_ylabel('f_{beat} [GHz]')\n",
    "    \n",
    "    cut = 0\n",
    "    #ax = fig.add_subplot(1, 3, 2)\n",
    "    #ax.plot(_vAutoArray[cut:], _lambdaBeat(_vAutoArray[cut:]) * 1e3)\n",
    "    #ax.set_xlabel('v_{auto} [m/s]')\n",
    "    #ax.set_ylabel('\\lambda_{beat} [mm]')\n",
    "    \n",
    "    \n",
    "    ax = fig.add_subplot(1, 3, 1)\n",
    "    ax.plot(_vAutoArray[cut:], _deltaS(_vAutoArray[cut:]) * 1e3)\n",
    "    ax.set_xlabel('v_{auto} [m/s]')\n",
    "    ax.set_ylabel('\\Delta{}s [mm]')\n",
    "    \n",
    "# plot(9e14, 2.89e11, 10, 100)\n",
    "i = interactive(plot, _fBase=(9, 15, 1), _fOffset=(9, 15, 1), _alpha=(0, 90, 1), _s=(1, 300, 1))\n",
    "i"
   ]
  },
  {
   "cell_type": "code",
   "execution_count": null,
   "metadata": {},
   "outputs": [],
   "source": []
  }
 ],
 "metadata": {
  "kernelspec": {
   "display_name": "Python 3 (ipykernel)",
   "language": "python",
   "name": "python3"
  },
  "language_info": {
   "codemirror_mode": {
    "name": "ipython",
    "version": 3
   },
   "file_extension": ".py",
   "mimetype": "text/x-python",
   "name": "python",
   "nbconvert_exporter": "python",
   "pygments_lexer": "ipython3",
   "version": "3.10.6"
  },
  "vscode": {
   "interpreter": {
    "hash": "e7370f93d1d0cde622a1f8e1c04877d8463912d04d973331ad4851f04de6915a"
   }
  }
 },
 "nbformat": 4,
 "nbformat_minor": 2
}
