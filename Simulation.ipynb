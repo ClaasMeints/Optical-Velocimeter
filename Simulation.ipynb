{
 "cells": [
  {
   "cell_type": "markdown",
   "metadata": {},
   "source": []
  },
  {
   "cell_type": "markdown",
   "metadata": {},
   "source": [
    "# Optical Velocimeter"
   ]
  },
  {
   "cell_type": "markdown",
   "metadata": {},
   "source": [
    "### Initialisation of SymPy"
   ]
  },
  {
   "cell_type": "code",
   "execution_count": 34,
   "metadata": {},
   "outputs": [],
   "source": [
    "import sympy as sym\n",
    "\n",
    "# Init Printing\n",
    "sym.init_printing()"
   ]
  },
  {
   "cell_type": "markdown",
   "metadata": {},
   "source": [
    "### Define the Model"
   ]
  },
  {
   "cell_type": "code",
   "execution_count": 59,
   "metadata": {},
   "outputs": [
    {
     "name": "stdout",
     "output_type": "stream",
     "text": [
      "Relative Velocity:\n"
     ]
    },
    {
     "data": {
      "image/png": "[encoded data removed]",
      "text/latex": [
       "$\\displaystyle v_{rel} = v_{auto} \\cos{\\left(\\alpha \\right)}$"
      ],
      "text/plain": [
       "v_{rel} = v_{auto}⋅cos(\\alpha)"
      ]
     },
     "metadata": {},
     "output_type": "display_data"
    },
    {
     "name": "stdout",
     "output_type": "stream",
     "text": [
      "Doppler Shift:\n"
     ]
    },
    {
     "data": {
      "image/png": "[encoded data removed]",
      "text/latex": [
       "$\\displaystyle \\hat{f}_1 = f_{1} \\left(1 + \\frac{v_{rel}}{c}\\right)$"
      ],
      "text/plain": [
       "              ⎛    v_{rel}⎞\n",
       "\\hat{f}₁ = f₁⋅⎜1 + ───────⎟\n",
       "              ⎝       c   ⎠"
      ]
     },
     "metadata": {},
     "output_type": "display_data"
    },
    {
     "data": {
      "image/png": "[encoded data removed]",
      "text/latex": [
       "$\\displaystyle \\hat{f}_2 = f_{2} \\left(1 - \\frac{v_{rel}}{c}\\right)$"
      ],
      "text/plain": [
       "              ⎛    v_{rel}⎞\n",
       "\\hat{f}₂ = f₂⋅⎜1 - ───────⎟\n",
       "              ⎝       c   ⎠"
      ]
     },
     "metadata": {},
     "output_type": "display_data"
    }
   ],
   "source": [
    "# Define Symbols\n",
    "f1, f2, f1Doppler, f2Doppler, vAuto, vRel, c, alpha, fS, lambdaS, s, deltaS = sym.symbols('f_1 f_2 \\hat{f}_1 \\hat{f}_2 v_{auto} v_{rel} c \\\\alpha f_S \\lambda_S s \\Delta_s')\n",
    "\n",
    "# Relative Velocity\n",
    "sym.pprint('Relative Velocity:')\n",
    "display(sym.Eq(vRel, vAuto * sym.cos(alpha)))\n",
    "\n",
    "# Doppler Shift\n",
    "sym.pprint('Doppler Shift:')\n",
    "display(sym.Eq(f1Doppler, f1 * (1 + vRel / c)))\n",
    "display(sym.Eq(f2Doppler, f2 * (1 - vRel / c)))"
   ]
  },
  {
   "cell_type": "code",
   "execution_count": null,
   "metadata": {},
   "outputs": [],
   "source": []
  }
 ],
 "metadata": {
  "kernelspec": {
   "display_name": "Python 3.10.6 64-bit",
   "language": "python",
   "name": "python3"
  },
  "language_info": {
   "codemirror_mode": {
    "name": "ipython",
    "version": 3
   },
   "file_extension": ".py",
   "mimetype": "text/x-python",
   "name": "python",
   "nbconvert_exporter": "python",
   "pygments_lexer": "ipython3",
   "version": "3.10.6"
  },
  "orig_nbformat": 4,
  "vscode": {
   "interpreter": {
    "hash": "916dbcbb3f70747c44a77c7bcd40155683ae19c65e1c03b4aa3499c5328201f1"
   }
  }
 },
 "nbformat": 4,
 "nbformat_minor": 2
}
