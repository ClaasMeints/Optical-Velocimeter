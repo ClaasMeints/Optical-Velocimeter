{
 "cells": [
  {
   "cell_type": "markdown",
   "metadata": {},
   "source": [
    "# Optical Velocimeter"
   ]
  },
  {
   "cell_type": "markdown",
   "metadata": {},
   "source": [
    "### Define the Model"
   ]
  },
  {
   "cell_type": "markdown",
   "metadata": {},
   "source": [
    "##### Initialisation of SymPy"
   ]
  },
  {
   "cell_type": "code",
   "execution_count": 23,
   "metadata": {},
   "outputs": [],
   "source": [
    "import sympy as sym\n",
    "from IPython.display import display, Math \n",
    "\n",
    "# Init Printing\n",
    "sym.init_printing()\n",
    "\n",
    "def func(name: str, f: sym.core, simplify: bool = False):\n",
    "    display(sym.Eq(sym.symbols(name), sym.Eq(f, sym.simplify(f), evaluate=False) if simplify else f, evaluate=False))\n",
    "    return f"
   ]
  },
  {
   "cell_type": "markdown",
   "metadata": {},
   "source": [
    "##### Define the Parameters"
   ]
  },
  {
   "cell_type": "code",
   "execution_count": 24,
   "metadata": {},
   "outputs": [],
   "source": [
    "f1, f2, vAuto, alpha = sym.symbols('f_1 f_2 v_{auto} \\\\alpha')\n",
    "s, c = sym.symbols('s c', constant=True)\n"
   ]
  },
  {
   "cell_type": "markdown",
   "metadata": {},
   "source": [
    "##### Define the Equations"
   ]
  },
  {
   "cell_type": "code",
   "execution_count": 25,
   "metadata": {},
   "outputs": [
    {
     "data": {
      "image/png": "[encoded data removed]",
      "text/latex": [
       "$\\displaystyle v_{rel} = v_{auto} \\sin{\\left(\\alpha \\right)}$"
      ],
      "text/plain": [
       "v_{rel} = v_{auto}⋅sin(\\alpha)"
      ]
     },
     "metadata": {},
     "output_type": "display_data"
    },
    {
     "data": {
      "image/png": "[encoded data removed]",
      "text/latex": [
       "$\\displaystyle \\hat{f_1} = f_{1} \\cdot \\left(1 + \\frac{v_{auto} \\sin{\\left(\\alpha \\right)}}{c}\\right)$"
      ],
      "text/plain": [
       "               ⎛    v_{auto}⋅sin(\\alpha)⎞\n",
       "\\hat{f_1} = f₁⋅⎜1 + ────────────────────⎟\n",
       "               ⎝             c          ⎠"
      ]
     },
     "metadata": {},
     "output_type": "display_data"
    },
    {
     "data": {
      "image/png": "[encoded data removed]",
      "text/latex": [
       "$\\displaystyle \\hat{f_2} = f_{2} \\cdot \\left(1 - \\frac{v_{auto} \\sin{\\left(\\alpha \\right)}}{c}\\right)$"
      ],
      "text/plain": [
       "               ⎛    v_{auto}⋅sin(\\alpha)⎞\n",
       "\\hat{f_2} = f₂⋅⎜1 - ────────────────────⎟\n",
       "               ⎝             c          ⎠"
      ]
     },
     "metadata": {},
     "output_type": "display_data"
    },
    {
     "data": {
      "image/png": "[encoded data removed]",
      "text/latex": [
       "$\\displaystyle f_{beat} = f_{1} \\cdot \\left(1 + \\frac{v_{auto} \\sin{\\left(\\alpha \\right)}}{c}\\right) - f_{2} \\cdot \\left(1 - \\frac{v_{auto} \\sin{\\left(\\alpha \\right)}}{c}\\right) = \\frac{f_{1} \\left(c + v_{auto} \\sin{\\left(\\alpha \\right)}\\right) - f_{2} \\left(c - v_{auto} \\sin{\\left(\\alpha \\right)}\\right)}{c}$"
      ],
      "text/plain": [
       "              ⎛    v_{auto}⋅sin(\\alpha)⎞      ⎛    v_{auto}⋅sin(\\alpha)⎞   f₁⋅\n",
       "f_{beat} = f₁⋅⎜1 + ────────────────────⎟ - f₂⋅⎜1 - ────────────────────⎟ = ───\n",
       "              ⎝             c          ⎠      ⎝             c          ⎠      \n",
       "\n",
       "(c + v_{auto}⋅sin(\\alpha)) - f₂⋅(c - v_{auto}⋅sin(\\alpha))\n",
       "──────────────────────────────────────────────────────────\n",
       "                           c                              "
      ]
     },
     "metadata": {},
     "output_type": "display_data"
    },
    {
     "data": {
      "image/png": "[encoded data removed]",
      "text/latex": [
       "$\\displaystyle \\lambda_{beat} = \\frac{c}{f_{1} \\cdot \\left(1 + \\frac{v_{auto} \\sin{\\left(\\alpha \\right)}}{c}\\right) - f_{2} \\cdot \\left(1 - \\frac{v_{auto} \\sin{\\left(\\alpha \\right)}}{c}\\right)} = \\frac{c^{2}}{f_{1} \\left(c + v_{auto} \\sin{\\left(\\alpha \\right)}\\right) - f_{2} \\left(c - v_{auto} \\sin{\\left(\\alpha \\right)}\\right)}$"
      ],
      "text/plain": [
       "                                                                              \n",
       "                                               c                              \n",
       "\\lambda_{beat} = ─────────────────────────────────────────────────────────────\n",
       "                    ⎛    v_{auto}⋅sin(\\alpha)⎞      ⎛    v_{auto}⋅sin(\\alpha)⎞\n",
       "                 f₁⋅⎜1 + ────────────────────⎟ - f₂⋅⎜1 - ────────────────────⎟\n",
       "                    ⎝             c          ⎠      ⎝             c          ⎠\n",
       "\n",
       "                                  2                             \n",
       "                                 c                              \n",
       " = ─────────────────────────────────────────────────────────────\n",
       "   f₁⋅(c + v_{auto}⋅sin(\\alpha)) - f₂⋅(c - v_{auto}⋅sin(\\alpha))\n",
       "                                                                \n",
       "                                                                "
      ]
     },
     "metadata": {},
     "output_type": "display_data"
    },
    {
     "data": {
      "text/latex": [
       "$\\displaystyle \\Delta s = \\sqrt{\\left(s + \\lambda_{beat}\\right)^{2} - s^{2}}\\quad\\Rightarrow$"
      ],
      "text/plain": [
       "<IPython.core.display.Math object>"
      ]
     },
     "metadata": {},
     "output_type": "display_data"
    },
    {
     "data": {
      "image/png": "[encoded data removed]",
      "text/latex": [
       "$\\displaystyle \\Delta{}s = \\sqrt{- s^{2} + \\left(\\frac{c}{f_{1} \\cdot \\left(1 + \\frac{v_{auto} \\sin{\\left(\\alpha \\right)}}{c}\\right) - f_{2} \\cdot \\left(1 - \\frac{v_{auto} \\sin{\\left(\\alpha \\right)}}{c}\\right)} + s\\right)^{2}}$"
      ],
      "text/plain": [
       "                   ___________________________________________________________\n",
       "                  ╱                                                           \n",
       "                 ╱     2   ⎛                              c                   \n",
       "\\Delta{}s =     ╱   - s  + ⎜──────────────────────────────────────────────────\n",
       "               ╱           ⎜   ⎛    v_{auto}⋅sin(\\alpha)⎞      ⎛    v_{auto}⋅s\n",
       "              ╱            ⎜f₁⋅⎜1 + ────────────────────⎟ - f₂⋅⎜1 - ──────────\n",
       "            ╲╱             ⎝   ⎝             c          ⎠      ⎝             c\n",
       "\n",
       "__________________\n",
       "                2 \n",
       "               ⎞  \n",
       "─────────── + s⎟  \n",
       "in(\\alpha)⎞    ⎟  \n",
       "──────────⎟    ⎟  \n",
       "          ⎠    ⎠  "
      ]
     },
     "metadata": {},
     "output_type": "display_data"
    }
   ],
   "source": [
    "# Relative Velocity\n",
    "vRel = func('v_{rel}', vAuto * sym.sin(alpha))\n",
    "\n",
    "# Doppler Shift\n",
    "f1Doppler = func('\\hat{f_1}', f1 * (1 + vRel / c))\n",
    "f2Doppler = func('\\hat{f_2}', f2 * (1 - vRel / c))\n",
    "\n",
    "# Beat Frequency and Wavelength\n",
    "fBeat = func('f_{beat}', f1Doppler - f2Doppler, simplify=True)\n",
    "lambdaBeat = func('\\lambda_{beat}', c / fBeat, simplify=True)\n",
    "\n",
    "# Delta S\n",
    "display(Math('\\Delta s = \\\\sqrt{\\\\left(s + \\\\lambda_{beat}\\\\right)^{2} - s^{2}}\\\\quad\\\\Rightarrow'))\n",
    "deltaS = func('\\Delta{}s', sym.sqrt((s + lambdaBeat)**2 - s**2))\n"
   ]
  },
  {
   "cell_type": "markdown",
   "metadata": {},
   "source": [
    "##### Create Sliders for the Parameters"
   ]
  },
  {
   "cell_type": "code",
   "execution_count": 27,
   "metadata": {},
   "outputs": [
    {
     "data": {
      "application/vnd.jupyter.widget-view+json": {
       "model_id": "8f7ea2da144040fea456fa5ae9cb736f",
       "version_major": 2,
       "version_minor": 0
      },
      "text/plain": [
       "interactive(children=(IntSlider(value=12, description='_fBase', max=15, min=9), IntSlider(value=12, descriptio…"
      ]
     },
     "execution_count": 27,
     "metadata": {},
     "output_type": "execute_result"
    }
   ],
   "source": [
    "%matplotlib inline\n",
    "\n",
    "from matplotlib import pyplot as plt\n",
    "from scipy.optimize import fsolve\n",
    "import numpy as np\n",
    "\n",
    "from ipywidgets import interactive, fixed\n",
    "\n",
    "def plot(_fBase, _fOffset, _alpha, _s):\n",
    "    _fBase = 10**_fBase\n",
    "    _fOffset = 10**_fOffset\n",
    "    _alpha = np.deg2rad(_alpha)\n",
    "    _c = 299792458\n",
    "    \n",
    "    _fBeat = lambda _vAuto : sym.lambdify((f1, f2, vAuto, alpha, c), fBeat, 'numpy')(_fBase, _fBase - _fOffset, _vAuto, _alpha, _c)\n",
    "    _lambdaBeat = lambda _vAuto : sym.lambdify((f1, f2, vAuto, alpha, c), lambdaBeat, 'numpy')(_fBase, _fBase - _fOffset, _vAuto, _alpha, _c)\n",
    "    _deltaS = lambda _vAuto : sym.lambdify((f1, f2, vAuto, alpha, c, s), deltaS, 'numpy')(_fBase, _fBase - _fOffset, _vAuto, _alpha, _c, _s)\n",
    "    \n",
    "    _maximumSpeed = 100\n",
    "    _minimumSpeed = fsolve(lambda _vAuto : _deltaS(_vAuto) * 1e3 - _s * np.tan(_alpha), 100)[0]\n",
    "    if _minimumSpeed > _maximumSpeed:\n",
    "        _minimumSpeed = 0.1\n",
    "    _vAutoArray = np.linspace(_minimumSpeed, _maximumSpeed, 1000)\n",
    "    \n",
    "    fig = plt.figure(figsize=(13, 3))\n",
    "    #ax = fig.add_subplot(1, 3, 1)\n",
    "    #ax.plot(_vAutoArray, _fBeat(_vAutoArray) / 1e9)\n",
    "    #ax.set_xlabel('v_{auto} [m/s]')\n",
    "    #ax.set_ylabel('f_{beat} [GHz]')\n",
    "    \n",
    "    cut = 0\n",
    "    #ax = fig.add_subplot(1, 3, 2)\n",
    "    #ax.plot(_vAutoArray[cut:], _lambdaBeat(_vAutoArray[cut:]) * 1e3)\n",
    "    #ax.set_xlabel('v_{auto} [m/s]')\n",
    "    #ax.set_ylabel('\\lambda_{beat} [mm]')\n",
    "    \n",
    "    \n",
    "    ax = fig.add_subplot(1, 3, 1)\n",
    "    ax.plot(_vAutoArray[cut:], _deltaS(_vAutoArray[cut:]) * 1e3)\n",
    "    ax.set_xlabel('v_{auto} [m/s]')\n",
    "    ax.set_ylabel('\\Delta{}s [mm]')\n",
    "    \n",
    "# plot(9e14, 2.89e11, 10, 100)\n",
    "i = interactive(plot, _fBase=(9, 15, 1), _fOffset=(9, 15, 1), _alpha=(0, 90, 1), _s=(1, 300, 1))\n",
    "i"
   ]
  },
  {
   "cell_type": "markdown",
   "metadata": {},
   "source": [
    "##### Numeric Simulation"
   ]
  },
  {
   "cell_type": "code",
   "execution_count": 57,
   "metadata": {},
   "outputs": [
    {
     "data": {
      "application/vnd.jupyter.widget-view+json": {
       "model_id": "b0b706c7689b4749bc0748008e2d67d5",
       "version_major": 2,
       "version_minor": 0
      },
      "text/plain": [
       "interactive(children=(IntSlider(value=500, description='_fBase', max=1000, min=1), FloatSlider(value=5.0, desc…"
      ]
     },
     "execution_count": 57,
     "metadata": {},
     "output_type": "execute_result"
    }
   ],
   "source": [
    "\n",
    "def plot(_fBase, _fOffset):\n",
    "    _fBase = _fBase * 1e14\n",
    "    _fOffset = _fOffset * 1e14\n",
    "    _alpha = np.deg2rad(10)\n",
    "    _s = 100\n",
    "    _c = 299792458\n",
    "    _f1 = _fBase\n",
    "    _f2 = _fBase - _fOffset\n",
    "    \n",
    "    _1n = lambda _vAuto : _vAuto * np.sin(_alpha) / _c\n",
    "    _deltaS = lambda _vAuto : np.sqrt(-_s**2 + (_c / (_f1 * (1 + _1n(_vAuto)) - (_f2 * (1 - _1n(_vAuto)))) + _s)**2)\n",
    "    \n",
    "    _maximumSpeed = 100\n",
    "    _minimumSpeed = 0.1\n",
    "    if _minimumSpeed > _maximumSpeed:\n",
    "        _minimumSpeed = 0.1\n",
    "    _vAutoArray = np.linspace(_minimumSpeed, _maximumSpeed, 1000)\n",
    "    \n",
    "    fig = plt.figure(figsize=(13, 3))\n",
    "    cut = 1\n",
    "    ax = fig.add_subplot(1, 3, 1)\n",
    "    ax.plot(_vAutoArray[cut:], _deltaS(_vAutoArray[cut:]) * 1e3)\n",
    "    ax.axes.set_xlim([_minimumSpeed, _maximumSpeed])\n",
    "    ax.set_xlabel('v_{auto} [m/s]')\n",
    "    ax.set_ylabel('\\Delta{}s [mm]')\n",
    "    \n",
    "# plot(9e14, 2.89e11, 10, 100)\n",
    "i = interactive(plot, _fBase=(1, 1000, 1), _fOffset=(0, 10, 0.1))\n",
    "i"
   ]
  },
  {
   "cell_type": "code",
   "execution_count": 86,
   "metadata": {},
   "outputs": [
    {
     "data": {
      "application/vnd.jupyter.widget-view+json": {
       "model_id": "a8d48b4968e54957a9c797f57ed32e02",
       "version_major": 2,
       "version_minor": 0
      },
      "text/plain": [
       "interactive(children=(IntSlider(value=5, description='_fBase', max=10, min=1), Output()), _dom_classes=('widge…"
      ]
     },
     "execution_count": 86,
     "metadata": {},
     "output_type": "execute_result"
    }
   ],
   "source": [
    "\n",
    "def plot(_fBase):\n",
    "    _fBase = _fBase * 1e14\n",
    "    _alpha = np.deg2rad(10)\n",
    "    _s = 100\n",
    "    _c = 299792458\n",
    "    _f1 = _fBase\n",
    "    _f2 = lambda _fOffset: _fBase - _fOffset\n",
    "    \n",
    "    _1n = lambda _vAuto : _vAuto * np.sin(_alpha) / _c\n",
    "    _deltaS = lambda _vAuto, _fOffset : np.sqrt(-_s**2 + (_c / (_f1 * (1 + _1n(_vAuto)) - (_f2(_fOffset) * (1 - _1n(_vAuto)))) + _s)**2)\n",
    "    _relativeDifference = lambda _fOffset : _deltaS(0.1, _fOffset) - _deltaS(100, _fOffset)\n",
    "    _differenceRatio = lambda _fOffset : _relativeDifference(_fOffset) / _deltaS(100, _fOffset)\n",
    "    \n",
    "    _fOffsetArray = np.linspace(0.01, 0.5, 1000) * 1e12\n",
    "    \n",
    "    fig = plt.figure(figsize=(13, 3))\n",
    "    cut = 1\n",
    "    ax = fig.add_subplot(1, 3, 1)\n",
    "    ax.plot(_fOffsetArray, _relativeDifference(_fOffsetArray) * 1e3)\n",
    "    ax.set_xlabel('f_{Offset} [Hz]')\n",
    "    ax.set_ylabel('\\Delta s [mm]')\n",
    "    \n",
    "    ax = fig.add_subplot(1, 3, 2)\n",
    "    ax.plot(_fOffsetArray, _differenceRatio(_fOffsetArray) * 1e3)\n",
    "    ax.set_xlabel('f_{Offset} [Hz]')\n",
    "    ax.set_ylabel('\\Delta s [mm]')\n",
    "    \n",
    "# plot(9e14, 2.89e11, 10, 100)\n",
    "i = interactive(plot, _fBase=(1, 10, 1))\n",
    "i"
   ]
  },
  {
   "cell_type": "markdown",
   "metadata": {},
   "source": [
    "### Test with example Lasers"
   ]
  },
  {
   "cell_type": "code",
   "execution_count": 179,
   "metadata": {},
   "outputs": [
    {
     "name": "stdout",
     "output_type": "stream",
     "text": [
      "99.99999999999999\n"
     ]
    },
    {
     "name": "stderr",
     "output_type": "stream",
     "text": [
      "/tmp/ipykernel_79643/917918217.py:35: RuntimeWarning: invalid value encountered in sqrt\n",
      "  deltaS = lambda _vAuto, _l1, _l2 : np.sqrt(-s**2 + (c / (f(_l1) * (1 + _1n(_vAuto)) - (f(_l2) * (1 - _1n(_vAuto)))) + s)**2) * 1e3\n"
     ]
    },
    {
     "data": {
      "text/html": [
       "<div>\n",
       "<style scoped>\n",
       "    .dataframe tbody tr th:only-of-type {\n",
       "        vertical-align: middle;\n",
       "    }\n",
       "\n",
       "    .dataframe tbody tr th {\n",
       "        vertical-align: top;\n",
       "    }\n",
       "\n",
       "    .dataframe thead th {\n",
       "        text-align: right;\n",
       "    }\n",
       "</style>\n",
       "<table border=\"1\" class=\"dataframe\">\n",
       "  <thead>\n",
       "    <tr style=\"text-align: right;\">\n",
       "      <th></th>\n",
       "      <th>l1 [nm]</th>\n",
       "      <th>l2 [nm]</th>\n",
       "      <th>maxDS [mm]</th>\n",
       "      <th>difference [um]</th>\n",
       "    </tr>\n",
       "  </thead>\n",
       "  <tbody>\n",
       "    <tr>\n",
       "      <th>0</th>\n",
       "      <td>652.0</td>\n",
       "      <td>676.4</td>\n",
       "      <td>60.123700</td>\n",
       "      <td>0.385620</td>\n",
       "    </tr>\n",
       "    <tr>\n",
       "      <th>1</th>\n",
       "      <td>652.0</td>\n",
       "      <td>671.0</td>\n",
       "      <td>67.861472</td>\n",
       "      <td>0.556717</td>\n",
       "    </tr>\n",
       "    <tr>\n",
       "      <th>2</th>\n",
       "      <td>647.1</td>\n",
       "      <td>676.4</td>\n",
       "      <td>54.659883</td>\n",
       "      <td>0.290870</td>\n",
       "    </tr>\n",
       "    <tr>\n",
       "      <th>3</th>\n",
       "      <td>647.1</td>\n",
       "      <td>671.0</td>\n",
       "      <td>60.278582</td>\n",
       "      <td>0.391661</td>\n",
       "    </tr>\n",
       "    <tr>\n",
       "      <th>4</th>\n",
       "      <td>635.0</td>\n",
       "      <td>671.0</td>\n",
       "      <td>48.653253</td>\n",
       "      <td>0.207946</td>\n",
       "    </tr>\n",
       "    <tr>\n",
       "      <th>5</th>\n",
       "      <td>635.0</td>\n",
       "      <td>652.0</td>\n",
       "      <td>69.791289</td>\n",
       "      <td>0.622485</td>\n",
       "    </tr>\n",
       "    <tr>\n",
       "      <th>6</th>\n",
       "      <td>635.0</td>\n",
       "      <td>647.1</td>\n",
       "      <td>82.412845</td>\n",
       "      <td>1.028789</td>\n",
       "    </tr>\n",
       "    <tr>\n",
       "      <th>7</th>\n",
       "      <td>632.8</td>\n",
       "      <td>652.0</td>\n",
       "      <td>65.557357</td>\n",
       "      <td>0.516851</td>\n",
       "    </tr>\n",
       "    <tr>\n",
       "      <th>8</th>\n",
       "      <td>632.8</td>\n",
       "      <td>647.1</td>\n",
       "      <td>75.677354</td>\n",
       "      <td>0.797979</td>\n",
       "    </tr>\n",
       "    <tr>\n",
       "      <th>9</th>\n",
       "      <td>568.2</td>\n",
       "      <td>578.2</td>\n",
       "      <td>81.059643</td>\n",
       "      <td>1.094794</td>\n",
       "    </tr>\n",
       "    <tr>\n",
       "      <th>10</th>\n",
       "      <td>568.2</td>\n",
       "      <td>577.0</td>\n",
       "      <td>86.320156</td>\n",
       "      <td>1.323432</td>\n",
       "    </tr>\n",
       "    <tr>\n",
       "      <th>11</th>\n",
       "      <td>520.0</td>\n",
       "      <td>532.0</td>\n",
       "      <td>67.901893</td>\n",
       "      <td>0.701300</td>\n",
       "    </tr>\n",
       "    <tr>\n",
       "      <th>12</th>\n",
       "      <td>520.0</td>\n",
       "      <td>530.9</td>\n",
       "      <td>71.172104</td>\n",
       "      <td>0.808418</td>\n",
       "    </tr>\n",
       "    <tr>\n",
       "      <th>13</th>\n",
       "      <td>520.0</td>\n",
       "      <td>528.7</td>\n",
       "      <td>79.499011</td>\n",
       "      <td>1.128974</td>\n",
       "    </tr>\n",
       "    <tr>\n",
       "      <th>14</th>\n",
       "      <td>514.5</td>\n",
       "      <td>532.0</td>\n",
       "      <td>55.929958</td>\n",
       "      <td>0.394029</td>\n",
       "    </tr>\n",
       "    <tr>\n",
       "      <th>15</th>\n",
       "      <td>514.5</td>\n",
       "      <td>530.9</td>\n",
       "      <td>57.715457</td>\n",
       "      <td>0.433464</td>\n",
       "    </tr>\n",
       "    <tr>\n",
       "      <th>16</th>\n",
       "      <td>514.5</td>\n",
       "      <td>528.7</td>\n",
       "      <td>61.896799</td>\n",
       "      <td>0.535721</td>\n",
       "    </tr>\n",
       "    <tr>\n",
       "      <th>17</th>\n",
       "      <td>514.5</td>\n",
       "      <td>520.0</td>\n",
       "      <td>98.634321</td>\n",
       "      <td>2.185648</td>\n",
       "    </tr>\n",
       "    <tr>\n",
       "      <th>18</th>\n",
       "      <td>510.6</td>\n",
       "      <td>532.0</td>\n",
       "      <td>50.385357</td>\n",
       "      <td>0.289210</td>\n",
       "    </tr>\n",
       "    <tr>\n",
       "      <th>19</th>\n",
       "      <td>510.6</td>\n",
       "      <td>530.9</td>\n",
       "      <td>51.678959</td>\n",
       "      <td>0.312382</td>\n",
       "    </tr>\n",
       "    <tr>\n",
       "      <th>20</th>\n",
       "      <td>510.6</td>\n",
       "      <td>528.7</td>\n",
       "      <td>54.616112</td>\n",
       "      <td>0.369454</td>\n",
       "    </tr>\n",
       "    <tr>\n",
       "      <th>21</th>\n",
       "      <td>510.6</td>\n",
       "      <td>520.0</td>\n",
       "      <td>75.161108</td>\n",
       "      <td>0.970838</td>\n",
       "    </tr>\n",
       "    <tr>\n",
       "      <th>22</th>\n",
       "      <td>496.5</td>\n",
       "      <td>520.0</td>\n",
       "      <td>46.875118</td>\n",
       "      <td>0.238865</td>\n",
       "    </tr>\n",
       "    <tr>\n",
       "      <th>23</th>\n",
       "      <td>496.5</td>\n",
       "      <td>514.5</td>\n",
       "      <td>53.275934</td>\n",
       "      <td>0.352560</td>\n",
       "    </tr>\n",
       "    <tr>\n",
       "      <th>24</th>\n",
       "      <td>496.5</td>\n",
       "      <td>510.6</td>\n",
       "      <td>59.966056</td>\n",
       "      <td>0.504602</td>\n",
       "    </tr>\n",
       "    <tr>\n",
       "      <th>25</th>\n",
       "      <td>488.0</td>\n",
       "      <td>510.6</td>\n",
       "      <td>46.958164</td>\n",
       "      <td>0.244466</td>\n",
       "    </tr>\n",
       "    <tr>\n",
       "      <th>26</th>\n",
       "      <td>488.0</td>\n",
       "      <td>496.5</td>\n",
       "      <td>75.504893</td>\n",
       "      <td>1.030319</td>\n",
       "    </tr>\n",
       "    <tr>\n",
       "      <th>27</th>\n",
       "      <td>476.4</td>\n",
       "      <td>496.5</td>\n",
       "      <td>48.513486</td>\n",
       "      <td>0.276635</td>\n",
       "    </tr>\n",
       "    <tr>\n",
       "      <th>28</th>\n",
       "      <td>476.4</td>\n",
       "      <td>488.0</td>\n",
       "      <td>63.311384</td>\n",
       "      <td>0.620130</td>\n",
       "    </tr>\n",
       "    <tr>\n",
       "      <th>29</th>\n",
       "      <td>476.2</td>\n",
       "      <td>496.5</td>\n",
       "      <td>48.263778</td>\n",
       "      <td>0.272451</td>\n",
       "    </tr>\n",
       "    <tr>\n",
       "      <th>30</th>\n",
       "      <td>476.2</td>\n",
       "      <td>488.0</td>\n",
       "      <td>62.759376</td>\n",
       "      <td>0.604165</td>\n",
       "    </tr>\n",
       "    <tr>\n",
       "      <th>31</th>\n",
       "      <td>473.0</td>\n",
       "      <td>496.5</td>\n",
       "      <td>44.706562</td>\n",
       "      <td>0.217271</td>\n",
       "    </tr>\n",
       "    <tr>\n",
       "      <th>32</th>\n",
       "      <td>473.0</td>\n",
       "      <td>488.0</td>\n",
       "      <td>55.476603</td>\n",
       "      <td>0.418726</td>\n",
       "    </tr>\n",
       "    <tr>\n",
       "      <th>33</th>\n",
       "      <td>457.9</td>\n",
       "      <td>476.4</td>\n",
       "      <td>48.562422</td>\n",
       "      <td>0.288942</td>\n",
       "    </tr>\n",
       "    <tr>\n",
       "      <th>34</th>\n",
       "      <td>457.9</td>\n",
       "      <td>476.2</td>\n",
       "      <td>48.816819</td>\n",
       "      <td>0.293584</td>\n",
       "    </tr>\n",
       "    <tr>\n",
       "      <th>35</th>\n",
       "      <td>457.9</td>\n",
       "      <td>473.0</td>\n",
       "      <td>53.560229</td>\n",
       "      <td>0.388997</td>\n",
       "    </tr>\n",
       "    <tr>\n",
       "      <th>36</th>\n",
       "      <td>440.0</td>\n",
       "      <td>457.9</td>\n",
       "      <td>47.446060</td>\n",
       "      <td>0.280386</td>\n",
       "    </tr>\n",
       "    <tr>\n",
       "      <th>37</th>\n",
       "      <td>405.0</td>\n",
       "      <td>413.1</td>\n",
       "      <td>64.272858</td>\n",
       "      <td>0.764770</td>\n",
       "    </tr>\n",
       "  </tbody>\n",
       "</table>\n",
       "</div>"
      ],
      "text/plain": [
       "    l1 [nm]  l2 [nm]  maxDS [mm]  difference [um]\n",
       "0     652.0    676.4   60.123700         0.385620\n",
       "1     652.0    671.0   67.861472         0.556717\n",
       "2     647.1    676.4   54.659883         0.290870\n",
       "3     647.1    671.0   60.278582         0.391661\n",
       "4     635.0    671.0   48.653253         0.207946\n",
       "5     635.0    652.0   69.791289         0.622485\n",
       "6     635.0    647.1   82.412845         1.028789\n",
       "7     632.8    652.0   65.557357         0.516851\n",
       "8     632.8    647.1   75.677354         0.797979\n",
       "9     568.2    578.2   81.059643         1.094794\n",
       "10    568.2    577.0   86.320156         1.323432\n",
       "11    520.0    532.0   67.901893         0.701300\n",
       "12    520.0    530.9   71.172104         0.808418\n",
       "13    520.0    528.7   79.499011         1.128974\n",
       "14    514.5    532.0   55.929958         0.394029\n",
       "15    514.5    530.9   57.715457         0.433464\n",
       "16    514.5    528.7   61.896799         0.535721\n",
       "17    514.5    520.0   98.634321         2.185648\n",
       "18    510.6    532.0   50.385357         0.289210\n",
       "19    510.6    530.9   51.678959         0.312382\n",
       "20    510.6    528.7   54.616112         0.369454\n",
       "21    510.6    520.0   75.161108         0.970838\n",
       "22    496.5    520.0   46.875118         0.238865\n",
       "23    496.5    514.5   53.275934         0.352560\n",
       "24    496.5    510.6   59.966056         0.504602\n",
       "25    488.0    510.6   46.958164         0.244466\n",
       "26    488.0    496.5   75.504893         1.030319\n",
       "27    476.4    496.5   48.513486         0.276635\n",
       "28    476.4    488.0   63.311384         0.620130\n",
       "29    476.2    496.5   48.263778         0.272451\n",
       "30    476.2    488.0   62.759376         0.604165\n",
       "31    473.0    496.5   44.706562         0.217271\n",
       "32    473.0    488.0   55.476603         0.418726\n",
       "33    457.9    476.4   48.562422         0.288942\n",
       "34    457.9    476.2   48.816819         0.293584\n",
       "35    457.9    473.0   53.560229         0.388997\n",
       "36    440.0    457.9   47.446060         0.280386\n",
       "37    405.0    413.1   64.272858         0.764770"
      ]
     },
     "execution_count": 179,
     "metadata": {},
     "output_type": "execute_result"
    }
   ],
   "source": [
    "import pandas as pd\n",
    "\n",
    "lambdaArray = [ 676.4e-9,\n",
    "                671e-9,\n",
    "                652e-9,\n",
    "                647.1e-9,\n",
    "                635e-9,\n",
    "                632.8e-9,\n",
    "                578.2e-9,\n",
    "                577e-9,\n",
    "                568.2e-9,\n",
    "                532e-9,\n",
    "                530.9e-9,\n",
    "                528.7e-9,\n",
    "                520e-9,\n",
    "                514.5e-9,\n",
    "                510.6e-9,\n",
    "                496.5e-9,\n",
    "                488e-9,\n",
    "                476.4e-9,\n",
    "                476.2e-9,\n",
    "                473e-9,\n",
    "                457.9e-9,\n",
    "                440e-9,\n",
    "                413.1e-9,\n",
    "                405e-9]             \n",
    "\n",
    "f = lambda _lambdaArray : 299792458 / _lambdaArray\n",
    "\n",
    "alpha = np.deg2rad(45)\n",
    "s = 100\n",
    "print(s * np.tan(alpha))\n",
    "\n",
    "_1n = lambda _vAuto : _vAuto * np.sin(alpha) / c\n",
    "deltaS = lambda _vAuto, _l1, _l2 : np.sqrt(-s**2 + (c / (f(_l1) * (1 + _1n(_vAuto)) - (f(_l2) * (1 - _1n(_vAuto)))) + s)**2) * 1e3\n",
    "\n",
    "maximumDS = lambda _l1, _l2 : deltaS(0.1, _l1, _l2)\n",
    "minimumDS = lambda _l1, _l2 : deltaS(100, _l1, _l2)\n",
    "difference = lambda _l1, _l2 : maximumDS(_l1, _l2) - minimumDS(_l1, _l2)\n",
    "ratio = lambda _l1, _l2 : difference(_l1, _l2) / maximumDS(_l1, _l2)\n",
    "\n",
    "fPairs = [ (_l1 * 1e9, _l2 * 1e9, maximumDS(_l1, _l2), difference(_l1, _l2) * 1e3) for _l1 in lambdaArray for _l2 in lambdaArray if maximumDS(_l1, _l2) < 100 and difference(_l1, _l2) > 0.0002]\n",
    "\n",
    "pd.DataFrame(fPairs, columns=['l1 [nm]', 'l2 [nm]', 'maxDS [mm]', 'difference [um]'])\n"
   ]
  }
 ],
 "metadata": {
  "kernelspec": {
   "display_name": "Python 3.11.0 ('notebook')",
   "language": "python",
   "name": "python3"
  },
  "language_info": {
   "codemirror_mode": {
    "name": "ipython",
    "version": 3
   },
   "file_extension": ".py",
   "mimetype": "text/x-python",
   "name": "python",
   "nbconvert_exporter": "python",
   "pygments_lexer": "ipython3",
   "version": "3.11.0"
  },
  "vscode": {
   "interpreter": {
    "hash": "4dd03d06ee5adf06eec0cc5e4b02a413b1ae31f5d7e4062145e012121529b27b"
   }
  }
 },
 "nbformat": 4,
 "nbformat_minor": 2
}
